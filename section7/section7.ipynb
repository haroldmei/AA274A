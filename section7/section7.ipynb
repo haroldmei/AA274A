{
 "cells": [
  {
   "cell_type": "markdown",
   "metadata": {},
   "source": [
    "## Section 7"
   ]
  },
  {
   "cell_type": "markdown",
   "metadata": {},
   "source": [
    "### Problem 1: Test these launch files with your robot sim and paste the contents of your my_nav.launch and my_nav_slow.launch files into your submission."
   ]
  },
  {
   "cell_type": "markdown",
   "metadata": {},
   "source": [
    "#### my_nav.launch"
   ]
  },
  {
   "cell_type": "code",
   "execution_count": null,
   "metadata": {},
   "outputs": [],
   "source": [
    "<launch>\n",
    "  <arg name=\"v_max\" default=\"0.2\"/>\n",
    "  <arg name=\"om_max\" default=\"0.4\"/>\n",
    "\n",
    "  <include file=\"$(find asl_turtlebot)/launch/turtlebot3_nav_sim.launch\" />\n",
    "\n",
    "  <node pkg=\"section5\" type=\"marker_pub.py\" name=\"marker_pub\" output=\"screen\" />\n",
    "\n",
    "  <node pkg=\"asl_turtlebot\" type=\"navigator.py\" name=\"turtlebot_navigator\" output=\"screen\">\n",
    "    <param name=\"v_max\" value=\"$(arg v_max)\"/>\n",
    "    <param name=\"om_max\" value=\"$(arg om_max)\"/>\n",
    "  </node>\n",
    "\n",
    "  <node name=\"rviz\" pkg=\"rviz\" type=\"rviz\" args=\"-d $(find section5)/rviz/my_nav.rviz\"/>\n",
    "  \n",
    "</launch>\n"
   ]
  },
  {
   "cell_type": "markdown",
   "metadata": {},
   "source": [
    "#### my_nav_slow.launch"
   ]
  },
  {
   "cell_type": "code",
   "execution_count": null,
   "metadata": {},
   "outputs": [],
   "source": [
    "<launch>\n",
    "  <include file=\"$(find section5)/launch/my_nav.launch\">\n",
    "    <arg name=\"v_max\" value=\"0.1\"/>\n",
    "    <arg name=\"om_max\" value=\"0.2\"/>\n",
    "  </include>\n",
    "</launch>"
   ]
  },
  {
   "cell_type": "markdown",
   "metadata": {},
   "source": [
    "### Problem 2: Test this on your robot sim and paste the contents of your navigator.cfg and navigator.py files into your submission."
   ]
  },
  {
   "cell_type": "markdown",
   "metadata": {},
   "source": [
    "#### navigator.cfg"
   ]
  },
  {
   "cell_type": "code",
   "execution_count": null,
   "metadata": {},
   "outputs": [],
   "source": [
    "#!/usr/bin/env python\n",
    "PACKAGE = \"asl_turtlebot\"\n",
    "\n",
    "from dynamic_reconfigure.parameter_generator_catkin import *\n",
    "\n",
    "gen = ParameterGenerator()\n",
    "\n",
    "gen.add(\"k1\",       double_t,    0, \"Pose Controller k1\", 0.8,  0., 2.0)\n",
    "gen.add(\"k2\",       double_t,    0, \"Pose Controller k2\", 0.4,  0., 2.0)\n",
    "gen.add(\"k3\",       double_t,    0, \"Pose Controller k3\", 0.4,  0., 2.0)\n",
    "\n",
    "gen.add(\"spline_alpha\",       double_t,    0, \"trajectory smoothing spline_alpha\", 0.12,  0., 0.2)\n",
    "gen.add(\"traj_dt\",       double_t,    0, \"trajectory smoothing traj_dt\", 0.05,  0., 0.15)\n",
    "\n",
    "exit(gen.generate(PACKAGE, \"navigator\", \"Navigator\"))\n",
    "\n"
   ]
  },
  {
   "cell_type": "markdown",
   "metadata": {},
   "source": [
    "#### navigator.py changes:"
   ]
  },
  {
   "cell_type": "code",
   "execution_count": 1,
   "metadata": {},
   "outputs": [],
   "source": [
    "class Navigator:\n",
    "    \"\"\"\n",
    "    This node handles point to point turtlebot motion, avoiding obstacles.\n",
    "    It is the sole node that should publish to cmd_vel\n",
    "    \"\"\"\n",
    "    def __init__(self):   \n",
    "        \n",
    "        #   ...\n",
    "        \n",
    "        # Robot limits\n",
    "        self.v_max = rospy.get_param(\"~v_max\")    # 0.2    # maximum velocity\n",
    "        self.om_max = rospy.get_param(\"~om_max\")   # 0.4   # maximum angular velocity\n",
    "        \n",
    "        #   ...\n",
    "    \n",
    "    \n",
    "    def dyn_cfg_callback(self, config, level):\n",
    "        rospy.loginfo(\"Reconfigure Request: k1:{k1}, k2:{k2}, k3:{k3}, spline_alpha:{spline_alpha}, traj_dt:{traj_dt}\".format(**config))\n",
    "        self.pose_controller.k1 = config[\"k1\"]\n",
    "        self.pose_controller.k2 = config[\"k2\"]\n",
    "        self.pose_controller.k3 = config[\"k3\"]\n",
    "\n",
    "        # the new configuration:\n",
    "        self.spline_alpha = config[\"spline_alpha\"]\n",
    "        self.traj_dt = config[\"traj_dt\"]\n",
    "        \n",
    "        return config\n"
   ]
  }
 ],
 "metadata": {
  "kernelspec": {
   "display_name": "Python 2",
   "language": "python",
   "name": "python2"
  },
  "language_info": {
   "codemirror_mode": {
    "name": "ipython",
    "version": 2
   },
   "file_extension": ".py",
   "mimetype": "text/x-python",
   "name": "python",
   "nbconvert_exporter": "python",
   "pygments_lexer": "ipython2",
   "version": "2.7.12"
  }
 },
 "nbformat": 4,
 "nbformat_minor": 2
}
