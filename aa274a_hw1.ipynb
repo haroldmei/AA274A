{
 "cells": [
  {
   "cell_type": "markdown",
   "metadata": {},
   "source": [
    "# AA274A PS1"
   ]
  },
  {
   "cell_type": "markdown",
   "metadata": {},
   "source": [
    "## 1. Trajectory Generation via Differential Flatness"
   ]
  },
  {
   "cell_type": "markdown",
   "metadata": {},
   "source": [
    "### (i). Write a set of linear equations in the coefficients $x_i$, $y_i$."
   ]
  },
  {
   "cell_type": "markdown",
   "metadata": {},
   "source": [
    "Similar to lecture notes, the set of equations can be written as:  \n",
    "\n",
    "$$\n",
    "\\begin{bmatrix} \n",
    "\\psi_1(t_0) & \\psi_2(t_0) & \\psi_3(t_0) & \\psi_4(t_0) \\\\\n",
    "\\dot \\psi_1(t_0) & \\dot \\psi_2(t_0) & \\dot \\psi_3(t_0) & \\dot \\psi_4(t_0)\\\\\n",
    "\\psi_1(t_f) & \\psi_2(t_f) & \\psi_3(t_f) & \\psi_4(t_f) \\\\\n",
    "\\dot \\psi_1(t_f) & \\dot \\psi_2(t_f) & \\dot \\psi_3(t_f) & \\dot \\psi_4(t_f)\\\\\n",
    "\\end{bmatrix}\n",
    "\\begin{bmatrix} \n",
    "x_1 & y_1 \\\\\n",
    "x_2 & y_2 \\\\\n",
    "x_3 & y_3 \\\\\n",
    "x_4 & y_4 \\\\\n",
    "\\end{bmatrix} = \n",
    "\\begin{bmatrix} \n",
    "x(t_0) & y(t_0)\\\\\n",
    "\\dot x(t_0) & \\dot y(t_0)\\\\\n",
    "x(t_f) & y(t_f)\\\\\n",
    "\\dot x(t_f) & \\dot y(t_f)\\\\\n",
    "\\end{bmatrix}\n",
    "$$  \n",
    "\n",
    "Given $ \\psi_1(t) = 1, \\psi_2(t) = t, \\psi_3(t) = t^2, \\psi_4(t) = t^3$, and $\\dot x(t)=V(t)\\cos(\\theta(t)), \\dot y(t)=V(t)\\sin(\\theta(t))$, the matrix equation becomes:  \n",
    "\n",
    "$$\n",
    "\\begin{bmatrix} \n",
    "1 & t_0 & t_0^2 & t_0^3 \\\\\n",
    "0 & 1 & 2t_0 & 3t_0^2\\\\\n",
    "1 & t_f & t_f^2 & t_f^3 \\\\\n",
    "0 & 1 & 2t_f & 3t_f^2\\\\\n",
    "\\end{bmatrix}\n",
    "\\begin{bmatrix} \n",
    "x_1 & y_1 \\\\\n",
    "x_2 & y_2 \\\\\n",
    "x_3 & y_3 \\\\\n",
    "x_4 & y_4 \\\\\n",
    "\\end{bmatrix} = \n",
    "\\begin{bmatrix} \n",
    "x(t_0) & y(t_0)\\\\\n",
    "V(t_0)\\cos(\\theta(t_0)) & V(t_0)\\sin(\\theta(t_0)) \\\\\n",
    "x(t_f) & y(t_f)\\\\\n",
    "V(t_f)\\cos(\\theta(t_f)) & V(t_f)\\sin(\\theta(t_f))\\\\\n",
    "\\end{bmatrix}\n",
    "$$  \n",
    "\n",
    "Plug in with $t_0 = 0$ and $t_f = 15$ to the above for $x(t),y(t),V(t),\\theta(t)$, we can solve for all the coefficients."
   ]
  },
  {
   "cell_type": "markdown",
   "metadata": {},
   "source": [
    "### (ii). Why can't we set $V(t_f)=0$?"
   ]
  },
  {
   "cell_type": "markdown",
   "metadata": {},
   "source": [
    "When we set V=0, the system is no longer differential flat."
   ]
  },
  {
   "cell_type": "markdown",
   "metadata": {},
   "source": [
    "### (iii). Coding"
   ]
  },
  {
   "cell_type": "markdown",
   "metadata": {},
   "source": [
    "### (iv). Coding"
   ]
  },
  {
   "cell_type": "markdown",
   "metadata": {},
   "source": [
    "### (v). plot"
   ]
  },
  {
   "cell_type": "markdown",
   "metadata": {},
   "source": [
    "### (vi).plot"
   ]
  },
  {
   "cell_type": "markdown",
   "metadata": {},
   "source": [
    "## 2. Pose Stabilization"
   ]
  },
  {
   "cell_type": "markdown",
   "metadata": {},
   "source": [
    "### (i). Coding"
   ]
  },
  {
   "cell_type": "markdown",
   "metadata": {},
   "source": [
    "### (ii). Test result"
   ]
  },
  {
   "cell_type": "markdown",
   "metadata": {},
   "source": [
    "### (iii). plot"
   ]
  },
  {
   "cell_type": "markdown",
   "metadata": {},
   "source": [
    "## 3. Trajectory Tracking"
   ]
  },
  {
   "cell_type": "markdown",
   "metadata": {},
   "source": [
    "### (i). Write down a system of equations for computing the true control inputs $(V,\\omega)$ in terms of the virtual controls $(u_1,u_2) = \\ddot x, \\ddot y$ and the vehicle state."
   ]
  },
  {
   "cell_type": "markdown",
   "metadata": {},
   "source": [
    "### (ii). Coding"
   ]
  },
  {
   "cell_type": "markdown",
   "metadata": {},
   "source": [
    "### (iii) Validate your work."
   ]
  },
  {
   "cell_type": "markdown",
   "metadata": {},
   "source": [
    "## 4. Extra. Optimal Control and Trajectory Optimization"
   ]
  },
  {
   "cell_type": "markdown",
   "metadata": {},
   "source": [
    "### (i). Derive the Hamiltonian and NOC and formulate the problem as a 2P-BVP."
   ]
  },
  {
   "cell_type": "markdown",
   "metadata": {},
   "source": [
    "### (ii). Coding"
   ]
  },
  {
   "cell_type": "markdown",
   "metadata": {},
   "source": [
    "### (iii). plot"
   ]
  },
  {
   "cell_type": "markdown",
   "metadata": {},
   "source": [
    "### (iv). Validate your work"
   ]
  }
 ],
 "metadata": {
  "kernelspec": {
   "display_name": "Python 2",
   "language": "python",
   "name": "python2"
  },
  "language_info": {
   "codemirror_mode": {
    "name": "ipython",
    "version": 2
   },
   "file_extension": ".py",
   "mimetype": "text/x-python",
   "name": "python",
   "nbconvert_exporter": "python",
   "pygments_lexer": "ipython2",
   "version": "2.7.18rc1"
  }
 },
 "nbformat": 4,
 "nbformat_minor": 2
}
