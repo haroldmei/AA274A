{
 "cells": [
  {
   "cell_type": "markdown",
   "metadata": {},
   "source": [
    "#### Montion control  \n",
    "\n",
    "* Optimal control\n",
    "* Trajectory optimization\n",
    "* Differential flatness and it's use in Trajectory optimization\n",
    "\n",
    "#### Kinematic model\n",
    "First order differential equation (DE). Use $\\text{Euler method}$ to solve for DE.\n",
    "$$\n",
    "\\dot x (t) = a(x(t),u(t),t)\n",
    "$$\n",
    "\n",
    "#### Optimal control problem (OCP)\n",
    "$$\n",
    "\\min_{u} h(x(t_f), t_f) + \\int_{t_0}^{t_f} g(x(t),u(t),t)dt \\\\\n",
    "s.t. \\dot x(t) = a(x(t),u(t),t) \\\\\n",
    "x(t)\\in \\mathbb{R}^n, u(t)\\in \\mathbb{R}^m\n",
    "$$\n",
    "\n",
    "Forms of OCP:\n",
    "* closed-loop:  \n",
    "$$\n",
    "u^*(t)=\\pi(x(t),t)\n",
    "$$\n",
    "\n",
    "* open-loop:  \n",
    "$$\n",
    "u^*(t)=f(x(t_0),t) \\\\\n",
    "$$\n",
    "\n",
    " * direct methods: transcribe infinite problem to finite problem, first discretize, then optimize (NLP).\n",
    " $$\n",
    " \\min(x_i, u_i)\\sum_{i=0}^N-1 h_i g(x_i,u_i,t_i) \\\\\n",
    " s.t. x_{i+1} = x_i + a(x_i, u_i, t_i), i=0,1,...,N-1 \\\\\n",
    " $$\n",
    " \n",
    " * indirect methods: solve the Necessary Optimization Conditions (NOC). Lagrangian, Hamiltanion.  \n",
    " \n",
    "  \n",
    "* two-step design\n",
    "$$\n",
    "u^*(t)=u_d(t)+\\pi(x(t),x(t)-x_d(t))\n",
    "$$\n",
    "\n",
    "#### Motion planning\n",
    "Contains state constraints\n",
    "\n",
    "#### Differential flatness (trajectory generation? what about trajection optimization?)\n",
    "A nonlinear system $\\dot x=a(x,u)$ is differentially flat if there exists a function $\\alpha$ such that:  \n",
    "$$\n",
    "z=\\alpha(x,u,\\dot u,...,u^{(p)})\n",
    "$$\n",
    "and we can write the solutions of the nonlinear system as functions of $z$ and a finite number of derivatives.\n",
    "$$\n",
    "x=\\beta(x,u,\\dot u,...,u^{(p)})  \\\\\n",
    "u=\\gamma(x,u,\\dot u,...,u^{(p)})\n",
    "$$\n",
    "\n",
    "Finding feasible solution that satisfies the dynamics:\n",
    "$$\n",
    "\\dot x=a(x,u) \\\\\n",
    "x(0)=0 \\\\\n",
    "x(t_f)=t_f\n",
    "$$\n",
    "\n",
    "Example: simple car steering.  \n",
    "$$\n",
    "\\dot x = v \\cos\\theta \\\\\n",
    "\\dot y = v \\sin \\theta \\\\\n",
    "\\dot \\theta = \\frac{v}{L} \\tan\\phi\n",
    "$$\n",
    "where the states: ($x,y,\\theta$), inputs: ( $v,\\phi$). The flat output is $z=(x,y)$, because $\\theta, \\phi, v$ can all be represented by $z, \\dot z$\n",
    "\n",
    "Parameterize the flat output trajectory using a set of smooth basis functions $\\psi_i(t)$\n",
    "$$\n",
    "z_j(t)=\\sum_{i=1}^N\\alpha_i^{[j]}\\psi_i(t)\n",
    "$$\n",
    "and then solve for $\\alpha$."
   ]
  },
  {
   "cell_type": "markdown",
   "metadata": {},
   "source": []
  },
  {
   "cell_type": "code",
   "execution_count": null,
   "metadata": {},
   "outputs": [],
   "source": []
  },
  {
   "cell_type": "code",
   "execution_count": null,
   "metadata": {},
   "outputs": [],
   "source": []
  },
  {
   "cell_type": "code",
   "execution_count": null,
   "metadata": {},
   "outputs": [],
   "source": []
  },
  {
   "cell_type": "code",
   "execution_count": null,
   "metadata": {},
   "outputs": [],
   "source": []
  },
  {
   "cell_type": "code",
   "execution_count": null,
   "metadata": {},
   "outputs": [],
   "source": []
  },
  {
   "cell_type": "code",
   "execution_count": null,
   "metadata": {},
   "outputs": [],
   "source": []
  },
  {
   "cell_type": "code",
   "execution_count": null,
   "metadata": {},
   "outputs": [],
   "source": []
  },
  {
   "cell_type": "code",
   "execution_count": null,
   "metadata": {},
   "outputs": [],
   "source": []
  }
 ],
 "metadata": {
  "kernelspec": {
   "display_name": "Python 2",
   "language": "python",
   "name": "python2"
  },
  "language_info": {
   "codemirror_mode": {
    "name": "ipython",
    "version": 2
   },
   "file_extension": ".py",
   "mimetype": "text/x-python",
   "name": "python",
   "nbconvert_exporter": "python",
   "pygments_lexer": "ipython2",
   "version": "2.7.18rc1"
  }
 },
 "nbformat": 4,
 "nbformat_minor": 2
}
