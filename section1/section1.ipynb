{
 "cells": [
  {
   "cell_type": "markdown",
   "metadata": {},
   "source": [
    "### AA274A Section 1"
   ]
  },
  {
   "cell_type": "code",
   "execution_count": 1,
   "metadata": {},
   "outputs": [],
   "source": [
    "import numpy as np\n",
    "import math\n",
    "\n",
    "from scipy.integrate import quad\n",
    "from scipy.optimize import minimize\n",
    "import matplotlib.pyplot as plt    "
   ]
  },
  {
   "cell_type": "markdown",
   "metadata": {},
   "source": [
    "#### Define a sin from numpy"
   ]
  },
  {
   "cell_type": "code",
   "execution_count": 2,
   "metadata": {},
   "outputs": [],
   "source": [
    "# Define a sin function using NumPy\n",
    "def sin_f(x):\n",
    "    return np.sin(x)"
   ]
  },
  {
   "cell_type": "markdown",
   "metadata": {},
   "source": [
    "#### Find the minimum of the sin using SciPy"
   ]
  },
  {
   "cell_type": "code",
   "execution_count": 3,
   "metadata": {},
   "outputs": [
    {
     "name": "stdout",
     "output_type": "stream",
     "text": [
      "Optimization terminated successfully.\n",
      "         Current function value: -1.000000\n",
      "         Iterations: 34\n",
      "         Function evaluations: 69\n",
      "\n",
      " The minimum of sin(x) is:  final_simplex: (array([[-1.57079632],\n",
      "       [-1.57079633]]), array([-1., -1.]))\n",
      "           fun: -1.0\n",
      "       message: 'Optimization terminated successfully.'\n",
      "          nfev: 69\n",
      "           nit: 34\n",
      "        status: 0\n",
      "       success: True\n",
      "             x: array([-1.57079632])\n"
     ]
    }
   ],
   "source": [
    "# Find the minimum of the function using SciPy\n",
    "x0 = 0.5 #np.array([1.3, 0.7, 0.8, 1.9, 1.2])\n",
    "res = minimize(sin_f, x0, method='nelder-mead', options={'xtol': 1e-8, 'disp': True})\n",
    "print(\"\\n The minimum of sin(x) is: {}\".format(res))"
   ]
  },
  {
   "cell_type": "markdown",
   "metadata": {},
   "source": [
    "#### Integrate the function from [0, 1]"
   ]
  },
  {
   "cell_type": "code",
   "execution_count": 4,
   "metadata": {},
   "outputs": [
    {
     "name": "stdout",
     "output_type": "stream",
     "text": [
      "\n",
      " Integral of sin(x) from x=0..1: 0.459697694132\n"
     ]
    }
   ],
   "source": [
    "# Integrate the function from [0; 1] using SciPy\n",
    "I = quad(sin_f, 0, 1)\n",
    "print(\"\\n Integral of sin(x) from x=0..1: {}\".format(I[0]))"
   ]
  },
  {
   "cell_type": "markdown",
   "metadata": {},
   "source": [
    "#### Plot it"
   ]
  },
  {
   "cell_type": "code",
   "execution_count": 5,
   "metadata": {},
   "outputs": [
    {
     "data": {
      "image/png": "[encoded data removed]",
      "text/plain": [
       "<Figure size 432x288 with 1 Axes>"
      ]
     },
     "metadata": {
      "needs_background": "light"
     },
     "output_type": "display_data"
    }
   ],
   "source": [
    "# Plot the function from 0-2pi\n",
    "x = np.arange(100)*math.pi / 50\n",
    "y = sin_f(x)\n",
    "plt.plot(x,y)\n",
    "plt.title(\"Line plot\")\n",
    "plt.xlabel(\"x\")\n",
    "plt.ylabel(\"sin(x)\")\n",
    "plt.show()"
   ]
  }
 ],
 "metadata": {
  "kernelspec": {
   "display_name": "Python 2",
   "language": "python",
   "name": "python2"
  },
  "language_info": {
   "codemirror_mode": {
    "name": "ipython",
    "version": 2
   },
   "file_extension": ".py",
   "mimetype": "text/x-python",
   "name": "python",
   "nbconvert_exporter": "python",
   "pygments_lexer": "ipython2",
   "version": "2.7.18rc1"
  }
 },
 "nbformat": 4,
 "nbformat_minor": 2
}
